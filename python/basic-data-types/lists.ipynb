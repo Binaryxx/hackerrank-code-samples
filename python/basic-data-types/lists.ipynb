{
 "cells": [
  {
   "cell_type": "markdown",
   "metadata": {},
   "source": [
    "# Lists\n",
    "https://www.hackerrank.com/challenges/python-lists/problem?isFullScreen=true"
   ]
  },
  {
   "cell_type": "markdown",
   "metadata": {},
   "source": [
    "Consider a list (list = []). You can perform the following commands:  \n",
    "insert i e: Insert integer e at position i.  \n",
    "print: Print the list.  \n",
    "remove e: Delete the first occurrence of integer e.  \n",
    "append e: Insert integer e at the end of the list.  \n",
    "sort: Sort the list.  \n",
    "pop: Pop the last element from the list.  \n",
    "reverse: Reverse the list.  \n",
    "  \n",
    "Initialize your list and read in the value of n followed by n lines of commands where each command will be of the 7 types listed above. Iterate through each command in order and perform the corresponding operation on your list.  \n",
    "  \n",
    "**Example**  \n",
    "N = 4  \n",
    "append 1  \n",
    "append 2  \n",
    "insert 3 1  \n",
    "print  \n",
    "  \n",
    "append 1: Append 1 to the list, arr = [1].  \n",
    "append 2: Append 2 to the list, arr = [1,2].  \n",
    "insert 3 1: Insert 3 at index 1, arr = [1,3,2].  \n",
    "print: Print the array.  \n",
    "  \n",
    "**Output:**  \n",
    "[1, 3, 2]  \n",
    "  \n",
    "**Input Format**  \n",
    "The first line contains an integer, n, denoting the number of commands.  \n",
    "Each line i of the n subsequent lines contains one of the commands described above.  \n",
    "  \n",
    "**Constraints**  \n",
    "The elements added to the list must be integers.  \n",
    "  \n",
    "**Output Format**  \n",
    "For each command of type print, print the list on a new line.  \n",
    "  \n",
    "**Sample Input 0**  \n",
    "12    \n",
    "insert 0 5  \n",
    "insert 1 10  \n",
    "insert 0 6  \n",
    "print  \n",
    "remove 6  \n",
    "append 9  \n",
    "append 1  \n",
    "sort  \n",
    "print  \n",
    "pop  \n",
    "reverse  \n",
    "print  \n",
    "  \n",
    "**Sample Output 0**  \n",
    "[6, 5, 10]  \n",
    "[1, 5, 9, 10]  \n",
    "[9, 5, 1]  "
   ]
  },
  {
   "cell_type": "code",
   "execution_count": null,
   "metadata": {},
   "outputs": [],
   "source": [
    "if __name__ == '__main__':\n",
    "    N = int(input())\n",
    "\n",
    "    arr = []\n",
    "        \n",
    "    def inputConv(a):\n",
    "        splitLine = a.split()\n",
    "        \n",
    "        if splitLine[0] == \"insert\":\n",
    "            return \"arr.insert(\" + splitLine[1] + \",\" + splitLine[2] + \")\"\n",
    "            \n",
    "        elif splitLine[0] == \"remove\" or splitLine[0] == \"append\":\n",
    "            return \"arr.\" + splitLine[0] + \"(\" + splitLine[1] + \")\" \n",
    "        \n",
    "        elif splitLine[0] == \"sort\" or splitLine[0] == \"pop\" or splitLine[0] == \"reverse\":\n",
    "            return \"arr.\" + splitLine[0] + \"()\"        \n",
    "            \n",
    "        else:\n",
    "            return \"print(arr)\"\n",
    "        \n",
    "            \n",
    "    userInput = []\n",
    "    while True:\n",
    "        try:\n",
    "            inputLine = input()\n",
    "        except EOFError:\n",
    "            break\n",
    "        else:\n",
    "            userInput.append(inputLine)\n",
    "            \n",
    "            \n",
    "        \n",
    "    for i in range(N):\n",
    "        exec(inputConv(userInput[i]))\n"
   ]
  }
 ],
 "metadata": {
  "kernelspec": {
   "display_name": "Python 3.10.8 64-bit (microsoft store)",
   "language": "python",
   "name": "python3"
  },
  "language_info": {
   "name": "python",
   "version": "3.10.8"
  },
  "orig_nbformat": 4,
  "vscode": {
   "interpreter": {
    "hash": "aea6fe521a8d4c902ca730e502c1a2f7b75abf53da708eec9ae2a041880e07b3"
   }
  }
 },
 "nbformat": 4,
 "nbformat_minor": 2
}
