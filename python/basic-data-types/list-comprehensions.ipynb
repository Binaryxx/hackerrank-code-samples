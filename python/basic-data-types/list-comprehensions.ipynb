{
 "cells": [
  {
   "cell_type": "markdown",
   "metadata": {},
   "source": [
    "# List Comprehensions  \n",
    "https://www.hackerrank.com/challenges/list-comprehensions/problem?isFullScreen=true"
   ]
  },
  {
   "cell_type": "markdown",
   "metadata": {},
   "source": [
    "Let's learn about list comprehensions! You are given three integers x, y and z representing the dimensions of a cuboid along with an integer n. Print a list of all possible coordinates given by (i, j, k) on a 3D grid where the sum of i+j+k is not equal to n. Here, 0 <= i <= x; 0 <= j <= y; 0 <= k <= z. Please use list comprehensions rather than multiple loops, as a learning exercise.  \n",
    "  \n",
    "**Example**  \n",
    "x = 1  \n",
    "y = 1  \n",
    "z = 2  \n",
    "n = 3  \n",
    "  \n",
    "All permutations of [i,j,k] are:  \n",
    "<refer to link>  \n",
    "  \n",
    "Print an array of the elements that do not sum to n = 3.  \n",
    "<refer to link>  \n",
    "  \n",
    "**Input Format**  \n",
    "Four integers x, y, z and n, each on a separate line.  \n",
    "  \n",
    "**Constraints**  \n",
    "Print the list in lexicographic increasing order.  \n",
    "  \n",
    "**Sample Input 0**  \n",
    "1  \n",
    "1  \n",
    "1  \n",
    "2  \n",
    "  \n",
    "**Sample Output 0**  \n",
    "[[0, 0, 0], [0, 0, 1], [0, 1, 0], [1, 0, 0], [1, 1, 1]]  \n",
    "  \n",
    "**Explanation 0**  \n",
    "Each variable x, y and z will have values of 0 or 1. All permutations of lists in the form <refer to link>.  \n",
    "Remove all arrays that sum to n = 2 to leave only the valid permutations.  \n",
    "  \n",
    "**Sample Input 1**  \n",
    "2  \n",
    "2  \n",
    "2  \n",
    "2  \n",
    "  \n",
    "**Sample Output 1**  \n",
    "[[0, 0, 0], [0, 0, 1], [0, 1, 0], [0, 1, 2], [0, 2, 1], [0, 2, 2], [1, 0, 0], [1, 0, 2], [1, 1, 1], [1, 1, 2], [1, 2, 0], [1, 2, 1], [1, 2, 2], [2, 0, 1], [2, 0, 2], [2, 1, 0], [2, 1, 1], [2, 1, 2], [2, 2, 0], [2, 2, 1], [2, 2, 2]]\n"
   ]
  },
  {
   "cell_type": "code",
   "execution_count": null,
   "metadata": {},
   "outputs": [],
   "source": [
    "if __name__ == '__main__':\n",
    "    x = int(input())\n",
    "    y = int(input())\n",
    "    z = int(input())\n",
    "    n = int(input())\n",
    "    \n",
    "    print(\n",
    "        [ [i,j,k] \n",
    "            for i in range(x+1) \n",
    "                for j in range(y+1) \n",
    "                    for k in range(z+1) \n",
    "                        if i + j + k != n ])"
   ]
  }
 ],
 "metadata": {
  "language_info": {
   "name": "python"
  },
  "orig_nbformat": 4
 },
 "nbformat": 4,
 "nbformat_minor": 2
}
