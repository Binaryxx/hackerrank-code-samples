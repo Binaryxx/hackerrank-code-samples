{
 "cells": [
  {
   "cell_type": "markdown",
   "metadata": {},
   "source": [
    "# Find the Runner-up Score  \n",
    "https://www.hackerrank.com/challenges/find-second-maximum-number-in-a-list/problem?isFullScreen=true"
   ]
  },
  {
   "cell_type": "markdown",
   "metadata": {},
   "source": [
    "Given the participants' score sheet for your University Sports Day, you are required to find the runner-up score. You are given n scores. Store them in a list and find the score of the runner-up.  \n",
    "  \n",
    "**Input Format**  \n",
    "The first line contains n. The second line contains an array A[] of n integers each separated by a space.  \n",
    "  \n",
    "**Constraints**  \n",
    "2 <= n <= 10  \n",
    "-100 <= A[i] <= 100  \n",
    "  \n",
    "**Output Format**  \n",
    "Print the runner-up score.  \n",
    "  \n",
    "**Sample Input 0**  \n",
    "5  \n",
    "2 3 6 6 5  \n",
    "  \n",
    "**Sample Output 0**  \n",
    "5  \n",
    "  \n",
    "**Explanation 0**   \n",
    "Given list is [2,3,6,6,5]. The maximum score is 6, second maximum is 5. Hence, we print 5 as the runner-up score.  "
   ]
  },
  {
   "cell_type": "code",
   "execution_count": null,
   "metadata": {},
   "outputs": [],
   "source": [
    "if __name__ == '__main__':\n",
    "    n = int(input())\n",
    "    arr = map(int, input().split())\n",
    "    \n",
    "    firstPlace = -101\n",
    "    runnerUp = -101\n",
    "    \n",
    "    for n in arr:\n",
    "        if n > runnerUp and n != firstPlace:\n",
    "            if n > firstPlace:\n",
    "                runnerUp = firstPlace\n",
    "                firstPlace = n\n",
    "            else:\n",
    "                runnerUp = n\n",
    "    print(runnerUp) "
   ]
  }
 ],
 "metadata": {
  "kernelspec": {
   "display_name": "Python 3.10.8 64-bit (microsoft store)",
   "language": "python",
   "name": "python3"
  },
  "language_info": {
   "name": "python",
   "version": "3.10.8"
  },
  "orig_nbformat": 4,
  "vscode": {
   "interpreter": {
    "hash": "aea6fe521a8d4c902ca730e502c1a2f7b75abf53da708eec9ae2a041880e07b3"
   }
  }
 },
 "nbformat": 4,
 "nbformat_minor": 2
}
