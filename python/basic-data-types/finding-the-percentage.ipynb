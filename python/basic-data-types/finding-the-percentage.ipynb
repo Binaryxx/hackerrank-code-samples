{
 "cells": [
  {
   "cell_type": "markdown",
   "metadata": {},
   "source": [
    "# Finding the Percentage  \n",
    "https://www.hackerrank.com/challenges/finding-the-percentage/problem?isFullScreen=true"
   ]
  },
  {
   "cell_type": "markdown",
   "metadata": {},
   "source": [
    "The provided code stub will read in a dictionary containing key/value pairs of name:[marks] for a list of students. Print the average of the marks array for the student name provided, showing 2 places after the decimal.  \n",
    "  \n",
    "**Example**  \n",
    "marks key: value pairs are  \n",
    "\"alpha\": [20,30,40]  \n",
    "\"beta\": [30,50,70]  \n",
    "query_name = \"beta\"  \n",
    "   \n",
    "The query_name is 'beta'. beta's average score is (30+50+70)/3 = 50.  \n",
    "  \n",
    "**Input Format**  \n",
    "The first line contains the integer n, the number of students' records. The next n lines contain the names and marks obtained by a student, each value separated by a space. The final line contains query_name, the name of a student to query.  \n",
    "  \n",
    "**Constraints**  \n",
    "2 <= n <= 10  \n",
    "0 <= marks[i] <= 100  \n",
    "length of marks arrays = 3  \n",
    "  \n",
    "**Output Format**  \n",
    "Print one line: The average of the marks obtained by the particular student correct to 2 decimal places.  \n",
    "  \n",
    "**Sample Input 0**  \n",
    "3  \n",
    "Krishna 67 68 69  \n",
    "Arjun 70 98 63  \n",
    "Malika 52 56 60  \n",
    "Malika  \n",
    "  \n",
    "**Sample Output 0**  \n",
    "56.00  \n",
    "  \n",
    "**Explanation 0**  \n",
    "Marks for Malika are {52,56,60} whose average is 56   \n",
    "  \n",
    "**Sample Input 1**    \n",
    "2  \n",
    "Harsh 25 26.5 28  \n",
    "Anurag 26 28 30  \n",
    "Harsh  \n",
    "  \n",
    "**Sample Output 1**  \n",
    "26.50  "
   ]
  },
  {
   "cell_type": "code",
   "execution_count": null,
   "metadata": {},
   "outputs": [],
   "source": [
    "if __name__ == '__main__':\n",
    "    n = int(input())\n",
    "    student_marks = {}\n",
    "    for _ in range(n):\n",
    "        name, *line = input().split()\n",
    "        scores = list(map(float, line))\n",
    "        student_marks[name] = scores\n",
    "    query_name = input()\n",
    "    \n",
    "    print(format((sum(student_marks[query_name]))/3, '.2f'))\n"
   ]
  }
 ],
 "metadata": {
  "kernelspec": {
   "display_name": "Python 3.10.8 64-bit (microsoft store)",
   "language": "python",
   "name": "python3"
  },
  "language_info": {
   "name": "python",
   "version": "3.10.8"
  },
  "orig_nbformat": 4,
  "vscode": {
   "interpreter": {
    "hash": "aea6fe521a8d4c902ca730e502c1a2f7b75abf53da708eec9ae2a041880e07b3"
   }
  }
 },
 "nbformat": 4,
 "nbformat_minor": 2
}
