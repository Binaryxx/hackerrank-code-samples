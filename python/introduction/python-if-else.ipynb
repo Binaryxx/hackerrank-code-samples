{
 "cells": [
  {
   "cell_type": "markdown",
   "metadata": {},
   "source": [
    "# Python If-Else  \n",
    "https://www.hackerrank.com/challenges/py-if-else/problem?isFullScreen=true"
   ]
  },
  {
   "cell_type": "markdown",
   "metadata": {},
   "source": [
    "**Task**  \n",
    "Given an integer, , perform the following conditional actions:  \n",
    "  \n",
    "If n is odd, print Weird  \n",
    "If n is even and in the inclusive range of 2 to 5, print Not Weird  \n",
    "If n is even and in the inclusive range of 6 to 20, print Weird  \n",
    "If n is even and greater than 20, print Not Weird  \n",
    "Input Format  \n",
    "  \n",
    "A single line containing a positive integer, n.  \n",
    "  \n",
    "**Constraints**  \n",
    "1 <= n <= 100  \n",
    "  \n",
    "**Output Format**  \n",
    "Print Weird if the number is weird. Otherwise, print Not Weird.  \n",
    "  \n",
    "**Sample Input 0**  \n",
    "3    \n",
    "  \n",
    "**Sample Output 0**  \n",
    "Weird  \n",
    "    \n",
    "**Explanation 0**  \n",
    "n = 3  \n",
    "n is odd and odd numbers are weird, so print Weird.  \n",
    "  \n",
    "**Sample Input 1**  \n",
    "24  \n",
    "  \n",
    "**Sample Output 1**  \n",
    "Not Weird  \n",
    "  \n",
    "**Explanation 1**  \n",
    "n=24  \n",
    "n>20 and n is even, so it is not weird.  "
   ]
  },
  {
   "cell_type": "code",
   "execution_count": null,
   "metadata": {},
   "outputs": [],
   "source": [
    "#!/bin/python3\n",
    "\n",
    "import math\n",
    "import os\n",
    "import random\n",
    "import re\n",
    "import sys\n",
    "\n",
    "\n",
    "\n",
    "if __name__ == '__main__':\n",
    "    n = int(input().strip())\n",
    "\n",
    "    if n%2 != 0:\n",
    "        print(\"Weird\")\n",
    "\n",
    "    if (n%2 == 0) and (2<=n<=5):\n",
    "        print(\"Not Weird\")\n",
    "    \n",
    "    if (n%2 == 0) and (6<=n<=20):\n",
    "        print(\"Weird\")\n",
    "        \n",
    "    if (n%2 == 0) and (n>20):\n",
    "        print(\"Not Weird\")"
   ]
  }
 ],
 "metadata": {
  "kernelspec": {
   "display_name": "Python 3.10.8 64-bit (microsoft store)",
   "language": "python",
   "name": "python3"
  },
  "language_info": {
   "name": "python",
   "version": "3.10.8"
  },
  "orig_nbformat": 4,
  "vscode": {
   "interpreter": {
    "hash": "aea6fe521a8d4c902ca730e502c1a2f7b75abf53da708eec9ae2a041880e07b3"
   }
  }
 },
 "nbformat": 4,
 "nbformat_minor": 2
}
