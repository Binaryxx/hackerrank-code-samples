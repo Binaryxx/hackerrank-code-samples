{
 "cells": [
  {
   "cell_type": "markdown",
   "metadata": {},
   "source": [
    "# Loops  \n",
    "https://www.hackerrank.com/challenges/python-loops/problem?isFullScreen=true"
   ]
  },
  {
   "cell_type": "markdown",
   "metadata": {},
   "source": [
    "**Task**  \n",
    "The provided code stub reads and integer, n, from STDIN. For all non-negative integers i < n, print i^2.  \n",
    "  \n",
    "**Example**  \n",
    "The list of non-negative integers that are less than n=3 is [0,1,2]. Print the square of each number on a separate line.  \n",
    "0  \n",
    "1  \n",
    "4  \n",
    "  \n",
    "**Input Format**  \n",
    "The first and only line contains the integer, n.  \n",
    "  \n",
    "**Constraints**  \n",
    "1 <= n <= 20  \n",
    "  \n",
    "**Output Format**  \n",
    "Print n lines, one corresponding to each i.  \n",
    "  \n",
    "**Sample Input 0**  \n",
    "5  \n",
    "\n",
    "**Sample Output 0**  \n",
    "0  \n",
    "1  \n",
    "4  \n",
    "9  \n",
    "16  "
   ]
  },
  {
   "cell_type": "code",
   "execution_count": null,
   "metadata": {},
   "outputs": [],
   "source": [
    "if __name__ == '__main__':\n",
    "    n = int(input())\n",
    "    \n",
    "    for i in range(n):\n",
    "        print(i**2)"
   ]
  }
 ],
 "metadata": {
  "kernelspec": {
   "display_name": "Python 3.10.8 64-bit (microsoft store)",
   "language": "python",
   "name": "python3"
  },
  "language_info": {
   "name": "python",
   "version": "3.10.8"
  },
  "orig_nbformat": 4,
  "vscode": {
   "interpreter": {
    "hash": "aea6fe521a8d4c902ca730e502c1a2f7b75abf53da708eec9ae2a041880e07b3"
   }
  }
 },
 "nbformat": 4,
 "nbformat_minor": 2
}
