{
 "cells": [
  {
   "cell_type": "markdown",
   "metadata": {},
   "source": [
    "# Arithmetic Operators  \n",
    "https://www.hackerrank.com/challenges/python-arithmetic-operators/problem?isFullScreen=true"
   ]
  },
  {
   "cell_type": "markdown",
   "metadata": {},
   "source": [
    "**Task**  \n",
    "The provided code stub reads two integers from STDIN, a and b. Add code to print three lines where:  \n",
    "1. The first line contains the sum of the two numbers.  \n",
    "2. The second line contains the difference of the two numbers (first - second).  \n",
    "3. The third line contains the product of the two numbers.  \n",
    "**Example**  \n",
    "a =3    \n",
    "b = 5   \n",
    "  \n",
    "_Print the following:_  \n",
    "8  \n",
    "-2  \n",
    "15    \n",
    "  \n",
    "**Input Format**  \n",
    "The first line contains the first integer, a.  \n",
    "The second line contains the second integer, b.  \n",
    "  \n",
    "**Constraints**  \n",
    "1 <= a <= 10^10  \n",
    "1 <= b <= 10^10  \n",
    "  \n",
    "**Output Format**  \n",
    "Print the three lines as explained above.  \n",
    "  \n",
    "**Sample Input 0**  \n",
    "3  \n",
    "2  \n",
    "  \n",
    "**Sample Output 0**  \n",
    "5  \n",
    "1  \n",
    "6  \n",
    "  \n",
    "**Explanation 0**  \n",
    "3 + 2 ---> 5  \n",
    "3 - 2 ---> 1\n",
    "3 * 2 ---> 6  "
   ]
  },
  {
   "cell_type": "code",
   "execution_count": null,
   "metadata": {},
   "outputs": [],
   "source": [
    "if __name__ == '__main__':\n",
    "    a = int(input())\n",
    "    b = int(input())\n",
    "    \n",
    "    print(a+b)\n",
    "    print(a-b)\n",
    "    print(a*b)\n"
   ]
  }
 ],
 "metadata": {
  "kernelspec": {
   "display_name": "Python 3.10.8 64-bit (microsoft store)",
   "language": "python",
   "name": "python3"
  },
  "language_info": {
   "name": "python",
   "version": "3.10.8"
  },
  "orig_nbformat": 4,
  "vscode": {
   "interpreter": {
    "hash": "aea6fe521a8d4c902ca730e502c1a2f7b75abf53da708eec9ae2a041880e07b3"
   }
  }
 },
 "nbformat": 4,
 "nbformat_minor": 2
}
