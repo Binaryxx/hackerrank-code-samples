{
 "cells": [
  {
   "cell_type": "markdown",
   "metadata": {},
   "source": [
    "# Tuples  \n",
    "https://www.hackerrank.com/challenges/python-tuples/problem?isFullScreen=true"
   ]
  },
  {
   "cell_type": "markdown",
   "metadata": {},
   "source": [
    "**Task**  \n",
    "Given an integer, n, and n space-separated integers as input, create a tuple, t, of those n integers. Then compute and print the result of hash(t).  \n",
    "  \n",
    "**Note:** hash() is one of the functions in the __builtins__ module, so it need not be imported.  \n",
    "  \n",
    "**Input Format**  \n",
    "The first line contains an integer, n, denoting the number of elements in the tuple.  \n",
    "The second line contains n space-separated integers describing the elements in tuple t.  \n",
    "  \n",
    "**Output Format**  \n",
    "Print the result of hash(t).  \n",
    "  \n",
    "**Sample Input 0**  \n",
    "2  \n",
    "1 2  \n",
    "  \n",
    "**Sample Output 0**  \n",
    "3713081631934410656  "
   ]
  },
  {
   "cell_type": "code",
   "execution_count": null,
   "metadata": {},
   "outputs": [],
   "source": [
    "if __name__ == '__main__':\n",
    "    n = int(input())\n",
    "    integer_list = map(int, input().split())\n",
    "    \n",
    "    for_list = []\n",
    "    for i in integer_list:\n",
    "        for_list.append(i)\n",
    "    t = tuple(for_list)\n",
    "    print(hash(t))"
   ]
  }
 ],
 "metadata": {
  "kernelspec": {
   "display_name": "Python 3.10.8 64-bit (microsoft store)",
   "language": "python",
   "name": "python3"
  },
  "language_info": {
   "name": "python",
   "version": "3.10.8"
  },
  "orig_nbformat": 4,
  "vscode": {
   "interpreter": {
    "hash": "aea6fe521a8d4c902ca730e502c1a2f7b75abf53da708eec9ae2a041880e07b3"
   }
  }
 },
 "nbformat": 4,
 "nbformat_minor": 2
}
