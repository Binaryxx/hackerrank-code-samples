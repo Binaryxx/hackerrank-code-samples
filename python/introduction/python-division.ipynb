{
 "cells": [
  {
   "cell_type": "markdown",
   "metadata": {},
   "source": [
    "# Python Division  \n",
    "https://www.hackerrank.com/challenges/python-division/problem?isFullScreen=true"
   ]
  },
  {
   "cell_type": "markdown",
   "metadata": {},
   "source": [
    "**Task**  \n",
    "The provided code stub reads two integers, a and b, from STDIN.  \n",
    "  \n",
    "Add logic to print two lines. The first line should contain the result of integer division,  a//b . The second line should contain the result of float division,  a/b .  \n",
    "  \n",
    "No rounding or formatting is necessary.  \n",
    "  \n",
    "**Example**  \n",
    "a = 3  \n",
    "b = 5   \n",
    "The result of the integer division 3//5 = 0.  \n",
    "The result of the float division is 3/5 = 0.6.  \n",
    "  \n",
    "_Print:_  \n",
    "0  \n",
    "0.6  \n",
    "  \n",
    "**Input Format**  \n",
    "The first line contains the first integer, a.  \n",
    "The second line contains the second integer, b.  \n",
    "  \n",
    "**Output Format**  \n",
    "Print the two lines as described above.  \n",
    "  \n",
    "**Sample Input 0**  \n",
    "4  \n",
    "3  \n",
    "  \n",
    "**Sample Output 0**  \n",
    "1  \n",
    "1.33333333333  "
   ]
  },
  {
   "cell_type": "code",
   "execution_count": null,
   "metadata": {},
   "outputs": [],
   "source": [
    "if __name__ == '__main__':\n",
    "    a = int(input())\n",
    "    b = int(input())\n",
    "    \n",
    "    print(a//b)\n",
    "    print(a/b)\n"
   ]
  }
 ],
 "metadata": {
  "kernelspec": {
   "display_name": "Python 3.10.8 64-bit (microsoft store)",
   "language": "python",
   "name": "python3"
  },
  "language_info": {
   "name": "python",
   "version": "3.10.8"
  },
  "orig_nbformat": 4,
  "vscode": {
   "interpreter": {
    "hash": "aea6fe521a8d4c902ca730e502c1a2f7b75abf53da708eec9ae2a041880e07b3"
   }
  }
 },
 "nbformat": 4,
 "nbformat_minor": 2
}
