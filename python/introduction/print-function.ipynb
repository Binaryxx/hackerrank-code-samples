{
 "cells": [
  {
   "cell_type": "markdown",
   "metadata": {},
   "source": [
    "# Print Function  \n",
    "https://www.hackerrank.com/challenges/python-print/problem?isFullScreen=true"
   ]
  },
  {
   "cell_type": "markdown",
   "metadata": {},
   "source": [
    "The included code stub will read an integer, n, from STDIN.  \n",
    "  \n",
    "Without using any string methods, try to print the following:  \n",
    "123...n  \n",
    "  \n",
    "Note that \"...\" represents the consecutive values in between.  \n",
    "  \n",
    "**Example**  \n",
    "n = 5  \n",
    "Print the string 12345.  \n",
    "  \n",
    "**Input Format**  \n",
    "The first line contains an integer n.  \n",
    "  \n",
    "**Constraints**  \n",
    "1 <= n <= 150  \n",
    "  \n",
    "**Output Format**  \n",
    "Print the list of integers from 1 through n as a string, without spaces.  \n",
    "  \n",
    "**Sample Input 0**  \n",
    "3    \n",
    "  \n",
    "**Sample Output 0**  \n",
    "123  "
   ]
  },
  {
   "cell_type": "code",
   "execution_count": null,
   "metadata": {},
   "outputs": [],
   "source": [
    "if __name__ == '__main__':\n",
    "    n = int(input())\n",
    "\n",
    "    result = []\n",
    "    for i in range(1,n+1):\n",
    "        result.append(i)\n",
    "    print(*result, sep=\"\")\n"
   ]
  }
 ],
 "metadata": {
  "kernelspec": {
   "display_name": "Python 3.10.8 64-bit (microsoft store)",
   "language": "python",
   "name": "python3"
  },
  "language_info": {
   "name": "python",
   "version": "3.10.8"
  },
  "orig_nbformat": 4,
  "vscode": {
   "interpreter": {
    "hash": "aea6fe521a8d4c902ca730e502c1a2f7b75abf53da708eec9ae2a041880e07b3"
   }
  }
 },
 "nbformat": 4,
 "nbformat_minor": 2
}
